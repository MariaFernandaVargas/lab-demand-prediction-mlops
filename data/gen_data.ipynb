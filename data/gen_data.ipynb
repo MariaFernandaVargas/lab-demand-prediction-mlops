{
 "cells": [
  {
   "cell_type": "markdown",
   "metadata": {},
   "source": [
    "Simular Data"
   ]
  },
  {
   "cell_type": "code",
   "execution_count": 1,
   "metadata": {},
   "outputs": [
    {
     "data": {
      "text/html": [
       "<div>\n",
       "<style scoped>\n",
       "    .dataframe tbody tr th:only-of-type {\n",
       "        vertical-align: middle;\n",
       "    }\n",
       "\n",
       "    .dataframe tbody tr th {\n",
       "        vertical-align: top;\n",
       "    }\n",
       "\n",
       "    .dataframe thead th {\n",
       "        text-align: right;\n",
       "    }\n",
       "</style>\n",
       "<table border=\"1\" class=\"dataframe\">\n",
       "  <thead>\n",
       "    <tr style=\"text-align: right;\">\n",
       "      <th></th>\n",
       "      <th>fecha</th>\n",
       "      <th>restaurante</th>\n",
       "      <th>producto</th>\n",
       "      <th>demanda</th>\n",
       "    </tr>\n",
       "  </thead>\n",
       "  <tbody>\n",
       "    <tr>\n",
       "      <th>0</th>\n",
       "      <td>2024-01-01</td>\n",
       "      <td>Restaurante A</td>\n",
       "      <td>Hamburguesa</td>\n",
       "      <td>66</td>\n",
       "    </tr>\n",
       "    <tr>\n",
       "      <th>1</th>\n",
       "      <td>2024-01-01</td>\n",
       "      <td>Restaurante A</td>\n",
       "      <td>Pizza</td>\n",
       "      <td>58</td>\n",
       "    </tr>\n",
       "    <tr>\n",
       "      <th>2</th>\n",
       "      <td>2024-01-01</td>\n",
       "      <td>Restaurante A</td>\n",
       "      <td>Ensalada</td>\n",
       "      <td>31</td>\n",
       "    </tr>\n",
       "    <tr>\n",
       "      <th>3</th>\n",
       "      <td>2024-01-01</td>\n",
       "      <td>Restaurante A</td>\n",
       "      <td>Tacos</td>\n",
       "      <td>86</td>\n",
       "    </tr>\n",
       "    <tr>\n",
       "      <th>4</th>\n",
       "      <td>2024-01-01</td>\n",
       "      <td>Restaurante A</td>\n",
       "      <td>Sushi</td>\n",
       "      <td>28</td>\n",
       "    </tr>\n",
       "  </tbody>\n",
       "</table>\n",
       "</div>"
      ],
      "text/plain": [
       "       fecha    restaurante     producto  demanda\n",
       "0 2024-01-01  Restaurante A  Hamburguesa       66\n",
       "1 2024-01-01  Restaurante A        Pizza       58\n",
       "2 2024-01-01  Restaurante A     Ensalada       31\n",
       "3 2024-01-01  Restaurante A        Tacos       86\n",
       "4 2024-01-01  Restaurante A        Sushi       28"
      ]
     },
     "execution_count": 1,
     "metadata": {},
     "output_type": "execute_result"
    }
   ],
   "source": [
    "import pandas as pd\n",
    "import numpy as np\n",
    "\n",
    "# Crear datos simulados\n",
    "np.random.seed(42)\n",
    "fechas = pd.date_range(start=\"2024-01-01\", end=\"2024-03-31\", freq=\"D\")\n",
    "restaurantes = ['Restaurante A', 'Restaurante B', 'Restaurante C']\n",
    "productos = ['Hamburguesa', 'Pizza', 'Ensalada', 'Tacos', 'Sushi']\n",
    "\n",
    "datos = []\n",
    "\n",
    "for fecha in fechas:\n",
    "    for restaurante in restaurantes:\n",
    "        for producto in productos:\n",
    "            demanda = np.random.poisson(lam=np.random.uniform(20, 100))\n",
    "            datos.append([fecha, restaurante, producto, demanda])\n",
    "\n",
    "# Crear DataFrame\n",
    "df = pd.DataFrame(datos, columns=[\"fecha\", \"restaurante\", \"producto\", \"demanda\"])\n",
    "\n",
    "# Mostrar primeras filas\n",
    "df.head()\n"
   ]
  },
  {
   "cell_type": "markdown",
   "metadata": {},
   "source": [
    "Exportar data"
   ]
  },
  {
   "cell_type": "code",
   "execution_count": 2,
   "metadata": {},
   "outputs": [
    {
     "name": "stdout",
     "output_type": "stream",
     "text": [
      "✅ Archivo guardado en data/ventas_simuladas.csv\n"
     ]
    }
   ],
   "source": [
    "import os\n",
    "\n",
    "# Crear carpeta 'data' si no existe\n",
    "os.makedirs(\"data\", exist_ok=True)\n",
    "\n",
    "# Guardar archivo CSV\n",
    "df.to_csv(\"data/ventas_simuladas.csv\", index=False)\n",
    "\n",
    "print(\"✅ Archivo guardado en data/ventas_simuladas.csv\")\n"
   ]
  }
 ],
 "metadata": {
  "kernelspec": {
   "display_name": "Python 3",
   "language": "python",
   "name": "python3"
  },
  "language_info": {
   "codemirror_mode": {
    "name": "ipython",
    "version": 3
   },
   "file_extension": ".py",
   "mimetype": "text/x-python",
   "name": "python",
   "nbconvert_exporter": "python",
   "pygments_lexer": "ipython3",
   "version": "3.9.6"
  }
 },
 "nbformat": 4,
 "nbformat_minor": 2
}
